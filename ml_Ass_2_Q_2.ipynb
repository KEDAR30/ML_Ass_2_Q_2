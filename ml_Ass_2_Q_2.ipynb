{
  "nbformat": 4,
  "nbformat_minor": 0,
  "metadata": {
    "colab": {
      "name": "ml_Ass_2_Q_2.ipynb",
      "provenance": [],
      "collapsed_sections": [],
      "authorship_tag": "ABX9TyNkFl6ffb6513sDnXnAEUjD",
      "include_colab_link": true
    },
    "kernelspec": {
      "name": "python3",
      "display_name": "Python 3"
    },
    "language_info": {
      "name": "python"
    }
  },
  "cells": [
    {
      "cell_type": "markdown",
      "metadata": {
        "id": "view-in-github",
        "colab_type": "text"
      },
      "source": [
        "<a href=\"https://colab.research.google.com/github/KEDAR30/ML_Ass_2_Q_2/blob/main/ml_Ass_2_Q_2.ipynb\" target=\"_parent\"><img src=\"https://colab.research.google.com/assets/colab-badge.svg\" alt=\"Open In Colab\"/></a>"
      ]
    },
    {
      "cell_type": "code",
      "execution_count": 31,
      "metadata": {
        "id": "8h4XhdF_PW45",
        "colab": {
          "base_uri": "https://localhost:8080/",
          "height": 175
        },
        "outputId": "676548d5-2f32-4290-beb4-5ede0c909ef0"
      },
      "outputs": [
        {
          "output_type": "execute_result",
          "data": {
            "text/plain": [
              "   Year  OGC                                OG   DC               Dept   UC  \\\n",
              "0  2015    4                  Community Health  DPH      Public Health  250   \n",
              "1  2013    4                  Community Health  DPH      Public Health   39   \n",
              "2  2015    6  General Administration & Finance  ASR  Assessor/Recorder   21   \n",
              "3  2016    1                 Public Protection  POL             Police  911   \n",
              "\n",
              "                                             Union                       JF  \\\n",
              "0                SEIU - Health Workers, Local 1021  Med Therapy & Auxiliary   \n",
              "1                   Stationary Engineers, Local 39         Journeyman Trade   \n",
              "2  Prof & Tech Engineers - Miscellaneous, Local 21     Appraisal & Taxation   \n",
              "3                     Police Officers' Association          Police Services   \n",
              "\n",
              "                              Job     EI  Salaries  Overtime       H/D  \\\n",
              "0                Morgue Attendant   6725     12196         0      0.00   \n",
              "1             Stationary Engineer  25058     74639      2820  12703.31   \n",
              "2  Senior Real Property Appraiser  46108    100554         0  12424.50   \n",
              "3                      Sergeant 3  33369    140164     52754  13043.87   \n",
              "\n",
              "         YT  Total_Compensation  \n",
              "0  Calendar               16158  \n",
              "1    Fiscal              115784  \n",
              "2  Calendar              144708  \n",
              "3    Fiscal              242323  "
            ],
            "text/html": [
              "\n",
              "  <div id=\"df-3849f578-c185-4c86-b7bf-c7e63fafd155\">\n",
              "    <div class=\"colab-df-container\">\n",
              "      <div>\n",
              "<style scoped>\n",
              "    .dataframe tbody tr th:only-of-type {\n",
              "        vertical-align: middle;\n",
              "    }\n",
              "\n",
              "    .dataframe tbody tr th {\n",
              "        vertical-align: top;\n",
              "    }\n",
              "\n",
              "    .dataframe thead th {\n",
              "        text-align: right;\n",
              "    }\n",
              "</style>\n",
              "<table border=\"1\" class=\"dataframe\">\n",
              "  <thead>\n",
              "    <tr style=\"text-align: right;\">\n",
              "      <th></th>\n",
              "      <th>Year</th>\n",
              "      <th>OGC</th>\n",
              "      <th>OG</th>\n",
              "      <th>DC</th>\n",
              "      <th>Dept</th>\n",
              "      <th>UC</th>\n",
              "      <th>Union</th>\n",
              "      <th>JF</th>\n",
              "      <th>Job</th>\n",
              "      <th>EI</th>\n",
              "      <th>Salaries</th>\n",
              "      <th>Overtime</th>\n",
              "      <th>H/D</th>\n",
              "      <th>YT</th>\n",
              "      <th>Total_Compensation</th>\n",
              "    </tr>\n",
              "  </thead>\n",
              "  <tbody>\n",
              "    <tr>\n",
              "      <th>0</th>\n",
              "      <td>2015</td>\n",
              "      <td>4</td>\n",
              "      <td>Community Health</td>\n",
              "      <td>DPH</td>\n",
              "      <td>Public Health</td>\n",
              "      <td>250</td>\n",
              "      <td>SEIU - Health Workers, Local 1021</td>\n",
              "      <td>Med Therapy &amp; Auxiliary</td>\n",
              "      <td>Morgue Attendant</td>\n",
              "      <td>6725</td>\n",
              "      <td>12196</td>\n",
              "      <td>0</td>\n",
              "      <td>0.00</td>\n",
              "      <td>Calendar</td>\n",
              "      <td>16158</td>\n",
              "    </tr>\n",
              "    <tr>\n",
              "      <th>1</th>\n",
              "      <td>2013</td>\n",
              "      <td>4</td>\n",
              "      <td>Community Health</td>\n",
              "      <td>DPH</td>\n",
              "      <td>Public Health</td>\n",
              "      <td>39</td>\n",
              "      <td>Stationary Engineers, Local 39</td>\n",
              "      <td>Journeyman Trade</td>\n",
              "      <td>Stationary Engineer</td>\n",
              "      <td>25058</td>\n",
              "      <td>74639</td>\n",
              "      <td>2820</td>\n",
              "      <td>12703.31</td>\n",
              "      <td>Fiscal</td>\n",
              "      <td>115784</td>\n",
              "    </tr>\n",
              "    <tr>\n",
              "      <th>2</th>\n",
              "      <td>2015</td>\n",
              "      <td>6</td>\n",
              "      <td>General Administration &amp; Finance</td>\n",
              "      <td>ASR</td>\n",
              "      <td>Assessor/Recorder</td>\n",
              "      <td>21</td>\n",
              "      <td>Prof &amp; Tech Engineers - Miscellaneous, Local 21</td>\n",
              "      <td>Appraisal &amp; Taxation</td>\n",
              "      <td>Senior Real Property Appraiser</td>\n",
              "      <td>46108</td>\n",
              "      <td>100554</td>\n",
              "      <td>0</td>\n",
              "      <td>12424.50</td>\n",
              "      <td>Calendar</td>\n",
              "      <td>144708</td>\n",
              "    </tr>\n",
              "    <tr>\n",
              "      <th>3</th>\n",
              "      <td>2016</td>\n",
              "      <td>1</td>\n",
              "      <td>Public Protection</td>\n",
              "      <td>POL</td>\n",
              "      <td>Police</td>\n",
              "      <td>911</td>\n",
              "      <td>Police Officers' Association</td>\n",
              "      <td>Police Services</td>\n",
              "      <td>Sergeant 3</td>\n",
              "      <td>33369</td>\n",
              "      <td>140164</td>\n",
              "      <td>52754</td>\n",
              "      <td>13043.87</td>\n",
              "      <td>Fiscal</td>\n",
              "      <td>242323</td>\n",
              "    </tr>\n",
              "  </tbody>\n",
              "</table>\n",
              "</div>\n",
              "      <button class=\"colab-df-convert\" onclick=\"convertToInteractive('df-3849f578-c185-4c86-b7bf-c7e63fafd155')\"\n",
              "              title=\"Convert this dataframe to an interactive table.\"\n",
              "              style=\"display:none;\">\n",
              "        \n",
              "  <svg xmlns=\"http://www.w3.org/2000/svg\" height=\"24px\"viewBox=\"0 0 24 24\"\n",
              "       width=\"24px\">\n",
              "    <path d=\"M0 0h24v24H0V0z\" fill=\"none\"/>\n",
              "    <path d=\"M18.56 5.44l.94 2.06.94-2.06 2.06-.94-2.06-.94-.94-2.06-.94 2.06-2.06.94zm-11 1L8.5 8.5l.94-2.06 2.06-.94-2.06-.94L8.5 2.5l-.94 2.06-2.06.94zm10 10l.94 2.06.94-2.06 2.06-.94-2.06-.94-.94-2.06-.94 2.06-2.06.94z\"/><path d=\"M17.41 7.96l-1.37-1.37c-.4-.4-.92-.59-1.43-.59-.52 0-1.04.2-1.43.59L10.3 9.45l-7.72 7.72c-.78.78-.78 2.05 0 2.83L4 21.41c.39.39.9.59 1.41.59.51 0 1.02-.2 1.41-.59l7.78-7.78 2.81-2.81c.8-.78.8-2.07 0-2.86zM5.41 20L4 18.59l7.72-7.72 1.47 1.35L5.41 20z\"/>\n",
              "  </svg>\n",
              "      </button>\n",
              "      \n",
              "  <style>\n",
              "    .colab-df-container {\n",
              "      display:flex;\n",
              "      flex-wrap:wrap;\n",
              "      gap: 12px;\n",
              "    }\n",
              "\n",
              "    .colab-df-convert {\n",
              "      background-color: #E8F0FE;\n",
              "      border: none;\n",
              "      border-radius: 50%;\n",
              "      cursor: pointer;\n",
              "      display: none;\n",
              "      fill: #1967D2;\n",
              "      height: 32px;\n",
              "      padding: 0 0 0 0;\n",
              "      width: 32px;\n",
              "    }\n",
              "\n",
              "    .colab-df-convert:hover {\n",
              "      background-color: #E2EBFA;\n",
              "      box-shadow: 0px 1px 2px rgba(60, 64, 67, 0.3), 0px 1px 3px 1px rgba(60, 64, 67, 0.15);\n",
              "      fill: #174EA6;\n",
              "    }\n",
              "\n",
              "    [theme=dark] .colab-df-convert {\n",
              "      background-color: #3B4455;\n",
              "      fill: #D2E3FC;\n",
              "    }\n",
              "\n",
              "    [theme=dark] .colab-df-convert:hover {\n",
              "      background-color: #434B5C;\n",
              "      box-shadow: 0px 1px 3px 1px rgba(0, 0, 0, 0.15);\n",
              "      filter: drop-shadow(0px 1px 2px rgba(0, 0, 0, 0.3));\n",
              "      fill: #FFFFFF;\n",
              "    }\n",
              "  </style>\n",
              "\n",
              "      <script>\n",
              "        const buttonEl =\n",
              "          document.querySelector('#df-3849f578-c185-4c86-b7bf-c7e63fafd155 button.colab-df-convert');\n",
              "        buttonEl.style.display =\n",
              "          google.colab.kernel.accessAllowed ? 'block' : 'none';\n",
              "\n",
              "        async function convertToInteractive(key) {\n",
              "          const element = document.querySelector('#df-3849f578-c185-4c86-b7bf-c7e63fafd155');\n",
              "          const dataTable =\n",
              "            await google.colab.kernel.invokeFunction('convertToInteractive',\n",
              "                                                     [key], {});\n",
              "          if (!dataTable) return;\n",
              "\n",
              "          const docLinkHtml = 'Like what you see? Visit the ' +\n",
              "            '<a target=\"_blank\" href=https://colab.research.google.com/notebooks/data_table.ipynb>data table notebook</a>'\n",
              "            + ' to learn more about interactive tables.';\n",
              "          element.innerHTML = '';\n",
              "          dataTable['output_type'] = 'display_data';\n",
              "          await google.colab.output.renderOutput(dataTable, element);\n",
              "          const docLink = document.createElement('div');\n",
              "          docLink.innerHTML = docLinkHtml;\n",
              "          element.appendChild(docLink);\n",
              "        }\n",
              "      </script>\n",
              "    </div>\n",
              "  </div>\n",
              "  "
            ]
          },
          "metadata": {},
          "execution_count": 31
        }
      ],
      "source": [
        "import pandas as pd\n",
        "import numpy as np\n",
        "df = pd.read_csv('/content/train_set.csv')\n",
        "df.head(4)"
      ]
    },
    {
      "cell_type": "code",
      "source": [
        "df.shape"
      ],
      "metadata": {
        "colab": {
          "base_uri": "https://localhost:8080/"
        },
        "id": "JqTMv13dQnGl",
        "outputId": "6e0d0aef-3127-4397-d33e-40bb01995262"
      },
      "execution_count": 32,
      "outputs": [
        {
          "output_type": "execute_result",
          "data": {
            "text/plain": [
              "(287836, 15)"
            ]
          },
          "metadata": {},
          "execution_count": 32
        }
      ]
    },
    {
      "cell_type": "code",
      "source": [
        "df.info()"
      ],
      "metadata": {
        "colab": {
          "base_uri": "https://localhost:8080/"
        },
        "id": "HA8SSbdVQnJG",
        "outputId": "87392417-3012-4132-b2e9-bd64cc8c4b69"
      },
      "execution_count": 33,
      "outputs": [
        {
          "output_type": "stream",
          "name": "stdout",
          "text": [
            "<class 'pandas.core.frame.DataFrame'>\n",
            "RangeIndex: 287836 entries, 0 to 287835\n",
            "Data columns (total 15 columns):\n",
            " #   Column              Non-Null Count   Dtype  \n",
            "---  ------              --------------   -----  \n",
            " 0   Year                287836 non-null  int64  \n",
            " 1   OGC                 287836 non-null  int64  \n",
            " 2   OG                  287836 non-null  object \n",
            " 3   DC                  287836 non-null  object \n",
            " 4   Dept                287836 non-null  object \n",
            " 5   UC                  287836 non-null  int64  \n",
            " 6   Union               287800 non-null  object \n",
            " 7   JF                  287798 non-null  object \n",
            " 8   Job                 287836 non-null  object \n",
            " 9   EI                  287836 non-null  int64  \n",
            " 10  Salaries            287836 non-null  int64  \n",
            " 11  Overtime            287836 non-null  int64  \n",
            " 12  H/D                 287836 non-null  float64\n",
            " 13  YT                  287836 non-null  object \n",
            " 14  Total_Compensation  287836 non-null  int64  \n",
            "dtypes: float64(1), int64(7), object(7)\n",
            "memory usage: 32.9+ MB\n"
          ]
        }
      ]
    },
    {
      "cell_type": "code",
      "source": [
        "df.describe()"
      ],
      "metadata": {
        "colab": {
          "base_uri": "https://localhost:8080/",
          "height": 300
        },
        "id": "VFU2H0v4QnUj",
        "outputId": "b1b6fda0-a054-4744-8fb6-6ada253eb2a7"
      },
      "execution_count": 34,
      "outputs": [
        {
          "output_type": "execute_result",
          "data": {
            "text/plain": [
              "                Year            OGC             UC             EI  \\\n",
              "count  287836.000000  287836.000000  287836.000000  287836.000000   \n",
              "mean     2014.250104       2.976007     490.540186   26913.060020   \n",
              "std         1.016282       1.575586     333.238723   15539.719696   \n",
              "min      2013.000000       1.000000       1.000000       1.000000   \n",
              "25%      2013.000000       2.000000     236.000000   13434.000000   \n",
              "50%      2014.000000       2.000000     535.000000   27013.000000   \n",
              "75%      2015.000000       4.000000     790.000000   40397.250000   \n",
              "max      2016.000000       7.000000     990.000000   53794.000000   \n",
              "\n",
              "            Salaries       Overtime            H/D  Total_Compensation  \n",
              "count  287836.000000  287836.000000  287836.000000       287836.000000  \n",
              "mean    63262.713139    4401.037115    8932.876472        97990.329882  \n",
              "std     44638.657748   11079.137749    4894.072024        67750.020573  \n",
              "min    -68771.000000  -12308.000000   -2940.470000       -74082.000000  \n",
              "25%     23406.000000       0.000000    4358.347500        35977.000000  \n",
              "50%     62504.500000       0.000000   11982.035000        98033.000000  \n",
              "75%     93000.250000    2738.000000   12801.790000       142138.250000  \n",
              "max    515101.000000  227313.000000   21872.800000       653498.000000  "
            ],
            "text/html": [
              "\n",
              "  <div id=\"df-a6b981b2-2121-44dc-ada8-b3c6943012ec\">\n",
              "    <div class=\"colab-df-container\">\n",
              "      <div>\n",
              "<style scoped>\n",
              "    .dataframe tbody tr th:only-of-type {\n",
              "        vertical-align: middle;\n",
              "    }\n",
              "\n",
              "    .dataframe tbody tr th {\n",
              "        vertical-align: top;\n",
              "    }\n",
              "\n",
              "    .dataframe thead th {\n",
              "        text-align: right;\n",
              "    }\n",
              "</style>\n",
              "<table border=\"1\" class=\"dataframe\">\n",
              "  <thead>\n",
              "    <tr style=\"text-align: right;\">\n",
              "      <th></th>\n",
              "      <th>Year</th>\n",
              "      <th>OGC</th>\n",
              "      <th>UC</th>\n",
              "      <th>EI</th>\n",
              "      <th>Salaries</th>\n",
              "      <th>Overtime</th>\n",
              "      <th>H/D</th>\n",
              "      <th>Total_Compensation</th>\n",
              "    </tr>\n",
              "  </thead>\n",
              "  <tbody>\n",
              "    <tr>\n",
              "      <th>count</th>\n",
              "      <td>287836.000000</td>\n",
              "      <td>287836.000000</td>\n",
              "      <td>287836.000000</td>\n",
              "      <td>287836.000000</td>\n",
              "      <td>287836.000000</td>\n",
              "      <td>287836.000000</td>\n",
              "      <td>287836.000000</td>\n",
              "      <td>287836.000000</td>\n",
              "    </tr>\n",
              "    <tr>\n",
              "      <th>mean</th>\n",
              "      <td>2014.250104</td>\n",
              "      <td>2.976007</td>\n",
              "      <td>490.540186</td>\n",
              "      <td>26913.060020</td>\n",
              "      <td>63262.713139</td>\n",
              "      <td>4401.037115</td>\n",
              "      <td>8932.876472</td>\n",
              "      <td>97990.329882</td>\n",
              "    </tr>\n",
              "    <tr>\n",
              "      <th>std</th>\n",
              "      <td>1.016282</td>\n",
              "      <td>1.575586</td>\n",
              "      <td>333.238723</td>\n",
              "      <td>15539.719696</td>\n",
              "      <td>44638.657748</td>\n",
              "      <td>11079.137749</td>\n",
              "      <td>4894.072024</td>\n",
              "      <td>67750.020573</td>\n",
              "    </tr>\n",
              "    <tr>\n",
              "      <th>min</th>\n",
              "      <td>2013.000000</td>\n",
              "      <td>1.000000</td>\n",
              "      <td>1.000000</td>\n",
              "      <td>1.000000</td>\n",
              "      <td>-68771.000000</td>\n",
              "      <td>-12308.000000</td>\n",
              "      <td>-2940.470000</td>\n",
              "      <td>-74082.000000</td>\n",
              "    </tr>\n",
              "    <tr>\n",
              "      <th>25%</th>\n",
              "      <td>2013.000000</td>\n",
              "      <td>2.000000</td>\n",
              "      <td>236.000000</td>\n",
              "      <td>13434.000000</td>\n",
              "      <td>23406.000000</td>\n",
              "      <td>0.000000</td>\n",
              "      <td>4358.347500</td>\n",
              "      <td>35977.000000</td>\n",
              "    </tr>\n",
              "    <tr>\n",
              "      <th>50%</th>\n",
              "      <td>2014.000000</td>\n",
              "      <td>2.000000</td>\n",
              "      <td>535.000000</td>\n",
              "      <td>27013.000000</td>\n",
              "      <td>62504.500000</td>\n",
              "      <td>0.000000</td>\n",
              "      <td>11982.035000</td>\n",
              "      <td>98033.000000</td>\n",
              "    </tr>\n",
              "    <tr>\n",
              "      <th>75%</th>\n",
              "      <td>2015.000000</td>\n",
              "      <td>4.000000</td>\n",
              "      <td>790.000000</td>\n",
              "      <td>40397.250000</td>\n",
              "      <td>93000.250000</td>\n",
              "      <td>2738.000000</td>\n",
              "      <td>12801.790000</td>\n",
              "      <td>142138.250000</td>\n",
              "    </tr>\n",
              "    <tr>\n",
              "      <th>max</th>\n",
              "      <td>2016.000000</td>\n",
              "      <td>7.000000</td>\n",
              "      <td>990.000000</td>\n",
              "      <td>53794.000000</td>\n",
              "      <td>515101.000000</td>\n",
              "      <td>227313.000000</td>\n",
              "      <td>21872.800000</td>\n",
              "      <td>653498.000000</td>\n",
              "    </tr>\n",
              "  </tbody>\n",
              "</table>\n",
              "</div>\n",
              "      <button class=\"colab-df-convert\" onclick=\"convertToInteractive('df-a6b981b2-2121-44dc-ada8-b3c6943012ec')\"\n",
              "              title=\"Convert this dataframe to an interactive table.\"\n",
              "              style=\"display:none;\">\n",
              "        \n",
              "  <svg xmlns=\"http://www.w3.org/2000/svg\" height=\"24px\"viewBox=\"0 0 24 24\"\n",
              "       width=\"24px\">\n",
              "    <path d=\"M0 0h24v24H0V0z\" fill=\"none\"/>\n",
              "    <path d=\"M18.56 5.44l.94 2.06.94-2.06 2.06-.94-2.06-.94-.94-2.06-.94 2.06-2.06.94zm-11 1L8.5 8.5l.94-2.06 2.06-.94-2.06-.94L8.5 2.5l-.94 2.06-2.06.94zm10 10l.94 2.06.94-2.06 2.06-.94-2.06-.94-.94-2.06-.94 2.06-2.06.94z\"/><path d=\"M17.41 7.96l-1.37-1.37c-.4-.4-.92-.59-1.43-.59-.52 0-1.04.2-1.43.59L10.3 9.45l-7.72 7.72c-.78.78-.78 2.05 0 2.83L4 21.41c.39.39.9.59 1.41.59.51 0 1.02-.2 1.41-.59l7.78-7.78 2.81-2.81c.8-.78.8-2.07 0-2.86zM5.41 20L4 18.59l7.72-7.72 1.47 1.35L5.41 20z\"/>\n",
              "  </svg>\n",
              "      </button>\n",
              "      \n",
              "  <style>\n",
              "    .colab-df-container {\n",
              "      display:flex;\n",
              "      flex-wrap:wrap;\n",
              "      gap: 12px;\n",
              "    }\n",
              "\n",
              "    .colab-df-convert {\n",
              "      background-color: #E8F0FE;\n",
              "      border: none;\n",
              "      border-radius: 50%;\n",
              "      cursor: pointer;\n",
              "      display: none;\n",
              "      fill: #1967D2;\n",
              "      height: 32px;\n",
              "      padding: 0 0 0 0;\n",
              "      width: 32px;\n",
              "    }\n",
              "\n",
              "    .colab-df-convert:hover {\n",
              "      background-color: #E2EBFA;\n",
              "      box-shadow: 0px 1px 2px rgba(60, 64, 67, 0.3), 0px 1px 3px 1px rgba(60, 64, 67, 0.15);\n",
              "      fill: #174EA6;\n",
              "    }\n",
              "\n",
              "    [theme=dark] .colab-df-convert {\n",
              "      background-color: #3B4455;\n",
              "      fill: #D2E3FC;\n",
              "    }\n",
              "\n",
              "    [theme=dark] .colab-df-convert:hover {\n",
              "      background-color: #434B5C;\n",
              "      box-shadow: 0px 1px 3px 1px rgba(0, 0, 0, 0.15);\n",
              "      filter: drop-shadow(0px 1px 2px rgba(0, 0, 0, 0.3));\n",
              "      fill: #FFFFFF;\n",
              "    }\n",
              "  </style>\n",
              "\n",
              "      <script>\n",
              "        const buttonEl =\n",
              "          document.querySelector('#df-a6b981b2-2121-44dc-ada8-b3c6943012ec button.colab-df-convert');\n",
              "        buttonEl.style.display =\n",
              "          google.colab.kernel.accessAllowed ? 'block' : 'none';\n",
              "\n",
              "        async function convertToInteractive(key) {\n",
              "          const element = document.querySelector('#df-a6b981b2-2121-44dc-ada8-b3c6943012ec');\n",
              "          const dataTable =\n",
              "            await google.colab.kernel.invokeFunction('convertToInteractive',\n",
              "                                                     [key], {});\n",
              "          if (!dataTable) return;\n",
              "\n",
              "          const docLinkHtml = 'Like what you see? Visit the ' +\n",
              "            '<a target=\"_blank\" href=https://colab.research.google.com/notebooks/data_table.ipynb>data table notebook</a>'\n",
              "            + ' to learn more about interactive tables.';\n",
              "          element.innerHTML = '';\n",
              "          dataTable['output_type'] = 'display_data';\n",
              "          await google.colab.output.renderOutput(dataTable, element);\n",
              "          const docLink = document.createElement('div');\n",
              "          docLink.innerHTML = docLinkHtml;\n",
              "          element.appendChild(docLink);\n",
              "        }\n",
              "      </script>\n",
              "    </div>\n",
              "  </div>\n",
              "  "
            ]
          },
          "metadata": {},
          "execution_count": 34
        }
      ]
    },
    {
      "cell_type": "code",
      "source": [
        "df.columns"
      ],
      "metadata": {
        "colab": {
          "base_uri": "https://localhost:8080/"
        },
        "id": "s9c58oeXQnZd",
        "outputId": "5da9eacf-788e-4dc6-9df7-47bafc11e5bb"
      },
      "execution_count": 35,
      "outputs": [
        {
          "output_type": "execute_result",
          "data": {
            "text/plain": [
              "Index(['Year', 'OGC', 'OG', 'DC', 'Dept', 'UC', 'Union', 'JF', 'Job', 'EI',\n",
              "       'Salaries', 'Overtime', 'H/D', 'YT', 'Total_Compensation'],\n",
              "      dtype='object')"
            ]
          },
          "metadata": {},
          "execution_count": 35
        }
      ]
    },
    {
      "cell_type": "code",
      "source": [
        "df2=df.drop(['Year', 'OGC', 'OG', 'DC', 'Dept', 'UC', 'Union', 'JF', 'Job', 'EI','H/D', 'YT'],axis=1)"
      ],
      "metadata": {
        "id": "1WsOz-aSQnf9"
      },
      "execution_count": 36,
      "outputs": []
    },
    {
      "cell_type": "code",
      "source": [
        "df2.isnull().sum()"
      ],
      "metadata": {
        "colab": {
          "base_uri": "https://localhost:8080/"
        },
        "id": "PYqWOJdnQ89t",
        "outputId": "08c7ba81-a954-4912-e8f6-7bdc88c1c825"
      },
      "execution_count": 37,
      "outputs": [
        {
          "output_type": "execute_result",
          "data": {
            "text/plain": [
              "Salaries              0\n",
              "Overtime              0\n",
              "Total_Compensation    0\n",
              "dtype: int64"
            ]
          },
          "metadata": {},
          "execution_count": 37
        }
      ]
    },
    {
      "cell_type": "code",
      "source": [
        "import seaborn as sns\n",
        "import matplotlib.pyplot as plt\n",
        "plt.figure(figsize=(10,5))\n",
        "sns.pairplot(df2, x_vars = ['Salaries', 'Overtime'])"
      ],
      "metadata": {
        "colab": {
          "base_uri": "https://localhost:8080/",
          "height": 585
        },
        "id": "caNVuoTOQ9U0",
        "outputId": "07f66228-9261-4033-f0d7-bcd521786c01"
      },
      "execution_count": 38,
      "outputs": [
        {
          "output_type": "execute_result",
          "data": {
            "text/plain": [
              "<seaborn.axisgrid.PairGrid at 0x7fc39bf4ae10>"
            ]
          },
          "metadata": {},
          "execution_count": 38
        },
        {
          "output_type": "display_data",
          "data": {
            "text/plain": [
              "<Figure size 720x360 with 0 Axes>"
            ]
          },
          "metadata": {}
        },
        {
          "output_type": "display_data",
          "data": {
            "text/plain": [
              "<Figure size 360x540 with 8 Axes>"
            ],
            "image/png": "[encoded data removed]"
          },
          "metadata": {
            "needs_background": "light"
          }
        }
      ]
    },
    {
      "cell_type": "code",
      "source": [
        "sns.heatmap(df2.corr(), annot = True)\n",
        "plt.show()"
      ],
      "metadata": {
        "colab": {
          "base_uri": "https://localhost:8080/",
          "height": 270
        },
        "id": "4iAxHfi8Q9Zy",
        "outputId": "d628bbef-a7c3-4d1f-dec6-cd8bb68a7bcf"
      },
      "execution_count": 39,
      "outputs": [
        {
          "output_type": "display_data",
          "data": {
            "text/plain": [
              "<Figure size 432x288 with 2 Axes>"
            ],
            "image/png": "[encoded data removed]"
          },
          "metadata": {
            "needs_background": "light"
          }
        }
      ]
    },
    {
      "cell_type": "code",
      "source": [
        "from sklearn.linear_model import LinearRegression\n",
        "from sklearn.model_selection import train_test_split\n",
        "X = df2.drop('Total_Compensation', axis = 1)\n",
        "Y = df2['Total_Compensation']\n",
        "X_train, X_test, Y_train, Y_test = train_test_split(X, Y, test_size = 0.3, random_state =10)"
      ],
      "metadata": {
        "id": "5BzjncICQ9c4"
      },
      "execution_count": 40,
      "outputs": []
    },
    {
      "cell_type": "code",
      "source": [
        "lr=LinearRegression()\n",
        "import statsmodels.api as sm\n",
        "X_train_sm = sm.add_constant(X_train)\n",
        "lr = sm.OLS(Y_train, X_train_sm).fit()"
      ],
      "metadata": {
        "colab": {
          "base_uri": "https://localhost:8080/"
        },
        "id": "BgiujPouQ9f8",
        "outputId": "bca29171-73c2-4075-f3ab-21a736ee1132"
      },
      "execution_count": 41,
      "outputs": [
        {
          "output_type": "stream",
          "name": "stderr",
          "text": [
            "/usr/local/lib/python3.7/dist-packages/statsmodels/tsa/tsatools.py:117: FutureWarning: In a future version of pandas all arguments of concat except for the argument 'objs' will be keyword-only\n",
            "  x = pd.concat(x[::order], 1)\n"
          ]
        }
      ]
    },
    {
      "cell_type": "code",
      "source": [
        "print(lr.summary())"
      ],
      "metadata": {
        "colab": {
          "base_uri": "https://localhost:8080/"
        },
        "id": "O2BHh_XIQ9iw",
        "outputId": "0cbd9c99-5281-4b74-f54e-9c0364935360"
      },
      "execution_count": 42,
      "outputs": [
        {
          "output_type": "stream",
          "name": "stdout",
          "text": [
            "                            OLS Regression Results                            \n",
            "==============================================================================\n",
            "Dep. Variable:     Total_Compensation   R-squared:                       0.984\n",
            "Model:                            OLS   Adj. R-squared:                  0.984\n",
            "Method:                 Least Squares   F-statistic:                 6.383e+06\n",
            "Date:                Sat, 23 Jul 2022   Prob (F-statistic):               0.00\n",
            "Time:                        13:43:10   Log-Likelihood:            -2.1076e+06\n",
            "No. Observations:              201485   AIC:                         4.215e+06\n",
            "Df Residuals:                  201482   BIC:                         4.215e+06\n",
            "Df Model:                           2                                         \n",
            "Covariance Type:            nonrobust                                         \n",
            "==============================================================================\n",
            "                 coef    std err          t      P>|t|      [0.025      0.975]\n",
            "------------------------------------------------------------------------------\n",
            "const       4418.2189     32.647    135.332      0.000    4354.231    4482.207\n",
            "Salaries       1.3923      0.000   3175.188      0.000       1.391       1.393\n",
            "Overtime       1.2484      0.002    709.784      0.000       1.245       1.252\n",
            "==============================================================================\n",
            "Omnibus:                   198680.539   Durbin-Watson:                   1.992\n",
            "Prob(Omnibus):                  0.000   Jarque-Bera (JB):         47341356.064\n",
            "Skew:                           4.301   Prob(JB):                         0.00\n",
            "Kurtosis:                      77.600   Cond. No.                     1.35e+05\n",
            "==============================================================================\n",
            "\n",
            "Warnings:\n",
            "[1] Standard Errors assume that the covariance matrix of the errors is correctly specified.\n",
            "[2] The condition number is large, 1.35e+05. This might indicate that there are\n",
            "strong multicollinearity or other numerical problems.\n"
          ]
        }
      ]
    },
    {
      "cell_type": "code",
      "source": [
        "lr.params"
      ],
      "metadata": {
        "colab": {
          "base_uri": "https://localhost:8080/"
        },
        "id": "nU5a1UduQ9mK",
        "outputId": "1d8f4530-dd81-4af8-b8d8-2740945d1bdc"
      },
      "execution_count": 43,
      "outputs": [
        {
          "output_type": "execute_result",
          "data": {
            "text/plain": [
              "const       4418.218949\n",
              "Salaries       1.392334\n",
              "Overtime       1.248357\n",
              "dtype: float64"
            ]
          },
          "metadata": {},
          "execution_count": 43
        }
      ]
    },
    {
      "cell_type": "code",
      "source": [
        "X_train_1=X_train.iloc[:,:1]\n",
        "plt.scatter(X_train_1, Y_train)\n",
        "plt.plot(X_train_1, 4418.218949 + 1.392334*X_train_1, 'r')\n",
        "plt.show()"
      ],
      "metadata": {
        "colab": {
          "base_uri": "https://localhost:8080/",
          "height": 265
        },
        "id": "98CsoNbpRkUr",
        "outputId": "6e41a403-8e3d-4eae-afd0-77dbb78b1e67"
      },
      "execution_count": 44,
      "outputs": [
        {
          "output_type": "display_data",
          "data": {
            "text/plain": [
              "<Figure size 432x288 with 1 Axes>"
            ],
            "image/png": "[encoded data removed]"
          },
          "metadata": {
            "needs_background": "light"
          }
        }
      ]
    },
    {
      "cell_type": "code",
      "source": [
        "X_train_2=X_train.iloc[:,-1:]\n",
        "plt.scatter(X_train_2, Y_train)\n",
        "plt.plot(X_train_2, 4418.218949 + 1.248357*X_train_2, 'r')\n",
        "plt.show()"
      ],
      "metadata": {
        "colab": {
          "base_uri": "https://localhost:8080/",
          "height": 265
        },
        "id": "8aNBQ0jTRkXq",
        "outputId": "813a4bc9-d85a-42cb-8181-0f3db70d5243"
      },
      "execution_count": 45,
      "outputs": [
        {
          "output_type": "display_data",
          "data": {
            "text/plain": [
              "<Figure size 432x288 with 1 Axes>"
            ],
            "image/png": "[encoded data removed]"
          },
          "metadata": {
            "needs_background": "light"
          }
        }
      ]
    },
    {
      "cell_type": "code",
      "source": [
        ""
      ],
      "metadata": {
        "id": "yDPU-Yw_Rkc2"
      },
      "execution_count": 45,
      "outputs": []
    },
    {
      "cell_type": "code",
      "source": [
        ""
      ],
      "metadata": {
        "id": "NCnSr5mQRkgz"
      },
      "execution_count": 45,
      "outputs": []
    },
    {
      "cell_type": "code",
      "source": [
        ""
      ],
      "metadata": {
        "id": "bCQ-3kW7RkoD"
      },
      "execution_count": 45,
      "outputs": []
    }
  ]
}